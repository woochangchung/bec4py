{
 "cells": [
  {
   "cell_type": "code",
   "execution_count": 4,
   "metadata": {},
   "outputs": [],
   "source": [
    "import bec4fit\n",
    "import bec4lib"
   ]
  },
  {
   "cell_type": "code",
   "execution_count": 5,
   "metadata": {},
   "outputs": [],
   "source": [
    "import numpy as np\n",
    "import matplotlib.pyplot as plt"
   ]
  },
  {
   "cell_type": "code",
   "execution_count": 6,
   "metadata": {},
   "outputs": [
    {
     "data": {
      "text/plain": [
       "<module 'bec4lib' from 'C:\\\\Users\\\\Julius\\\\Dropbox (MIT)\\\\Documents\\\\MIT\\\\bec4py\\\\bec4lib.py'>"
      ]
     },
     "execution_count": 6,
     "metadata": {},
     "output_type": "execute_result"
    }
   ],
   "source": [
    "import importlib\n",
    "importlib.reload(bec4lib)"
   ]
  },
  {
   "cell_type": "code",
   "execution_count": 117,
   "metadata": {},
   "outputs": [],
   "source": [
    "ids = np.arange(389799,389879+1)\n",
    "imgs = bec4lib.queryImages(ids)\n",
    "camInfo = bec4lib.queryImageSize(ids)\n",
    "imgs = np.vstack(imgs)"
   ]
  },
  {
   "cell_type": "code",
   "execution_count": 118,
   "metadata": {},
   "outputs": [],
   "source": [
    "dat = bec4lib.BEC4image(imgs,camInfo)\n",
    "dat.dispersiveImage(pwaLoc = [2,3,4],knifeEdge=10,doPCA=True);"
   ]
  },
  {
   "cell_type": "code",
   "execution_count": 62,
   "metadata": {},
   "outputs": [
    {
     "ename": "AttributeError",
     "evalue": "'BEC4image' object has no attribute 'absImg'",
     "output_type": "error",
     "traceback": [
      "\u001b[1;31m---------------------------------------------------------------------------\u001b[0m",
      "\u001b[1;31mAttributeError\u001b[0m                            Traceback (most recent call last)",
      "\u001b[1;32m<ipython-input-62-616c050c7deb>\u001b[0m in \u001b[0;36m<module>\u001b[1;34m\u001b[0m\n\u001b[0;32m      3\u001b[0m \u001b[0mscan_var\u001b[0m \u001b[1;33m=\u001b[0m \u001b[1;33m[\u001b[0m\u001b[1;33m]\u001b[0m\u001b[1;33m\u001b[0m\u001b[1;33m\u001b[0m\u001b[0m\n\u001b[0;32m      4\u001b[0m \u001b[1;32mfor\u001b[0m \u001b[0mi\u001b[0m \u001b[1;32min\u001b[0m \u001b[0mrange\u001b[0m\u001b[1;33m(\u001b[0m\u001b[1;36m0\u001b[0m\u001b[1;33m,\u001b[0m\u001b[0mdat\u001b[0m\u001b[1;33m.\u001b[0m\u001b[0mshotsN\u001b[0m\u001b[1;33m)\u001b[0m\u001b[1;33m:\u001b[0m\u001b[1;33m\u001b[0m\u001b[1;33m\u001b[0m\u001b[0m\n\u001b[1;32m----> 5\u001b[1;33m     \u001b[0m_\u001b[0m\u001b[1;33m,\u001b[0m\u001b[0mflag\u001b[0m \u001b[1;33m=\u001b[0m \u001b[0mbec4fit\u001b[0m\u001b[1;33m.\u001b[0m\u001b[0mfindCloud\u001b[0m\u001b[1;33m(\u001b[0m\u001b[0mdat\u001b[0m\u001b[1;33m.\u001b[0m\u001b[0mabsImg\u001b[0m\u001b[1;33m[\u001b[0m\u001b[0mi\u001b[0m\u001b[1;33m,\u001b[0m\u001b[1;36m5\u001b[0m\u001b[1;33m:\u001b[0m\u001b[1;33m-\u001b[0m\u001b[1;36m5\u001b[0m\u001b[1;33m,\u001b[0m\u001b[1;33m:\u001b[0m\u001b[1;33m]\u001b[0m\u001b[1;33m)\u001b[0m\u001b[1;33m\u001b[0m\u001b[1;33m\u001b[0m\u001b[0m\n\u001b[0m\u001b[0;32m      6\u001b[0m     \u001b[1;32mif\u001b[0m \u001b[0mflag\u001b[0m \u001b[1;33m==\u001b[0m \u001b[1;36m0\u001b[0m\u001b[1;33m:\u001b[0m\u001b[1;33m\u001b[0m\u001b[1;33m\u001b[0m\u001b[0m\n\u001b[0;32m      7\u001b[0m         \u001b[1;31m#param,_ = bec4fit.fit_2DGaussian(dat.absImg[i,10:90,:])\u001b[0m\u001b[1;33m\u001b[0m\u001b[1;33m\u001b[0m\u001b[1;33m\u001b[0m\u001b[0m\n",
      "\u001b[1;31mAttributeError\u001b[0m: 'BEC4image' object has no attribute 'absImg'"
     ]
    }
   ],
   "source": [
    "ncount = np.zeros((dat.shotsN))\n",
    "doublon_mode = []\n",
    "scan_var = []\n",
    "for i in range(0,dat.shotsN):\n",
    "    _,flag = bec4fit.findCloud(dat.absImg[i,5:-5,:])\n",
    "    if flag == 0:\n",
    "        #param,_ = bec4fit.fit_2DGaussian(dat.absImg[i,10:90,:])\n",
    "        #ncount[i] = 2*np.pi*np.prod(param[2:5])\n",
    "        ncount[i] = bec4fit.absImgNcount(dat.absImg[i,5:-5,:])\n",
    "        doublon_mode.append(varlist1[i])\n",
    "        scan_var.append(varlist2[i])\n",
    "    else:\n",
    "        print(f\"empty shot detected, index {i}\")\n",
    "doublon_mode = np.array(doublon_mode)\n",
    "scan_var = np.array(scan_var)"
   ]
  },
  {
   "cell_type": "code",
   "execution_count": 63,
   "metadata": {},
   "outputs": [
    {
     "ename": "NameError",
     "evalue": "name 'varlist2' is not defined",
     "output_type": "error",
     "traceback": [
      "\u001b[1;31m---------------------------------------------------------------------------\u001b[0m",
      "\u001b[1;31mNameError\u001b[0m                                 Traceback (most recent call last)",
      "\u001b[1;32m<ipython-input-63-1d8b5892272b>\u001b[0m in \u001b[0;36m<module>\u001b[1;34m\u001b[0m\n\u001b[0;32m      1\u001b[0m \u001b[0m_\u001b[0m\u001b[1;33m,\u001b[0m \u001b[0mdoublon_mode\u001b[0m \u001b[1;33m=\u001b[0m \u001b[0mnp\u001b[0m\u001b[1;33m.\u001b[0m\u001b[0munique\u001b[0m\u001b[1;33m(\u001b[0m\u001b[0mdoublon_mode\u001b[0m\u001b[1;33m,\u001b[0m\u001b[0mreturn_inverse\u001b[0m\u001b[1;33m=\u001b[0m\u001b[1;32mTrue\u001b[0m\u001b[1;33m)\u001b[0m\u001b[1;33m\u001b[0m\u001b[1;33m\u001b[0m\u001b[0m\n\u001b[1;32m----> 2\u001b[1;33m \u001b[0mx_unique\u001b[0m\u001b[1;33m,\u001b[0m\u001b[0m_\u001b[0m \u001b[1;33m=\u001b[0m \u001b[0mnp\u001b[0m\u001b[1;33m.\u001b[0m\u001b[0munique\u001b[0m\u001b[1;33m(\u001b[0m\u001b[0mvarlist2\u001b[0m\u001b[1;33m,\u001b[0m \u001b[0mreturn_inverse\u001b[0m\u001b[1;33m=\u001b[0m\u001b[1;32mTrue\u001b[0m\u001b[1;33m)\u001b[0m\u001b[1;33m\u001b[0m\u001b[1;33m\u001b[0m\u001b[0m\n\u001b[0m\u001b[0;32m      3\u001b[0m \u001b[0mall_atoms\u001b[0m \u001b[1;33m=\u001b[0m \u001b[1;33m[\u001b[0m\u001b[1;33m]\u001b[0m\u001b[1;33m\u001b[0m\u001b[1;33m\u001b[0m\u001b[0m\n\u001b[0;32m      4\u001b[0m \u001b[0mkill_dbl\u001b[0m \u001b[1;33m=\u001b[0m \u001b[1;33m[\u001b[0m\u001b[1;33m]\u001b[0m\u001b[1;33m\u001b[0m\u001b[1;33m\u001b[0m\u001b[0m\n\u001b[0;32m      5\u001b[0m \u001b[0mkill_pair\u001b[0m \u001b[1;33m=\u001b[0m \u001b[1;33m[\u001b[0m\u001b[1;33m]\u001b[0m\u001b[1;33m\u001b[0m\u001b[1;33m\u001b[0m\u001b[0m\n",
      "\u001b[1;31mNameError\u001b[0m: name 'varlist2' is not defined"
     ]
    }
   ],
   "source": [
    "_, doublon_mode = np.unique(doublon_mode,return_inverse=True)\n",
    "x_unique,_ = np.unique(varlist2, return_inverse=True)\n",
    "all_atoms = []\n",
    "kill_dbl = []\n",
    "kill_pair = []\n",
    "for x_val in x_unique:\n",
    "    all_atoms.append(ncount[np.logical_and(doublon_mode==0,varlist2 == x_val)])\n",
    "    kill_dbl.append(ncount[np.logical_and(doublon_mode==1,varlist2 == x_val)])\n",
    "    kill_pair.append(ncount[np.logical_and(doublon_mode==2,varlist2 == x_val)])\n",
    "    \n",
    "dblFrac,spdf,dblerr,spdferr = bec4lib.doublonAnalysis(ncount,varlist1,varlist2)\n"
   ]
  },
  {
   "cell_type": "code",
   "execution_count": 64,
   "metadata": {},
   "outputs": [
    {
     "ename": "TypeError",
     "evalue": "only integer scalar arrays can be converted to a scalar index",
     "output_type": "error",
     "traceback": [
      "\u001b[1;31m---------------------------------------------------------------------------\u001b[0m",
      "\u001b[1;31mTypeError\u001b[0m                                 Traceback (most recent call last)",
      "\u001b[1;32m<ipython-input-64-5c8f6c453279>\u001b[0m in \u001b[0;36m<module>\u001b[1;34m\u001b[0m\n\u001b[0;32m      1\u001b[0m \u001b[0mfig\u001b[0m \u001b[1;33m=\u001b[0m \u001b[0mplt\u001b[0m\u001b[1;33m.\u001b[0m\u001b[0mfigure\u001b[0m\u001b[1;33m(\u001b[0m\u001b[0mfigsize\u001b[0m\u001b[1;33m=\u001b[0m\u001b[1;33m(\u001b[0m\u001b[1;36m12\u001b[0m\u001b[1;33m,\u001b[0m\u001b[1;36m4\u001b[0m\u001b[1;33m)\u001b[0m\u001b[1;33m)\u001b[0m\u001b[1;33m\u001b[0m\u001b[1;33m\u001b[0m\u001b[0m\n\u001b[0;32m      2\u001b[0m \u001b[0mfig\u001b[0m\u001b[1;33m.\u001b[0m\u001b[0madd_subplot\u001b[0m\u001b[1;33m(\u001b[0m\u001b[1;36m1\u001b[0m\u001b[1;33m,\u001b[0m\u001b[1;36m2\u001b[0m\u001b[1;33m,\u001b[0m\u001b[1;36m1\u001b[0m\u001b[1;33m)\u001b[0m\u001b[1;33m\u001b[0m\u001b[1;33m\u001b[0m\u001b[0m\n\u001b[1;32m----> 3\u001b[1;33m \u001b[0mplt\u001b[0m\u001b[1;33m.\u001b[0m\u001b[0mscatter\u001b[0m\u001b[1;33m(\u001b[0m\u001b[0mnp\u001b[0m\u001b[1;33m.\u001b[0m\u001b[0msort\u001b[0m\u001b[1;33m(\u001b[0m\u001b[0mscan_var\u001b[0m\u001b[1;33m[\u001b[0m\u001b[0mdoublon_mode\u001b[0m\u001b[1;33m==\u001b[0m\u001b[1;36m0\u001b[0m\u001b[1;33m]\u001b[0m\u001b[1;33m)\u001b[0m\u001b[1;33m,\u001b[0m\u001b[0mnp\u001b[0m\u001b[1;33m.\u001b[0m\u001b[0mhstack\u001b[0m\u001b[1;33m(\u001b[0m\u001b[0mall_atoms\u001b[0m\u001b[1;33m)\u001b[0m\u001b[1;33m,\u001b[0m\u001b[0mlabel\u001b[0m\u001b[1;33m=\u001b[0m\u001b[1;34m'all'\u001b[0m\u001b[1;33m)\u001b[0m\u001b[1;33m\u001b[0m\u001b[1;33m\u001b[0m\u001b[0m\n\u001b[0m\u001b[0;32m      4\u001b[0m \u001b[0mplt\u001b[0m\u001b[1;33m.\u001b[0m\u001b[0mscatter\u001b[0m\u001b[1;33m(\u001b[0m\u001b[0mnp\u001b[0m\u001b[1;33m.\u001b[0m\u001b[0msort\u001b[0m\u001b[1;33m(\u001b[0m\u001b[0mscan_var\u001b[0m\u001b[1;33m[\u001b[0m\u001b[0mdoublon_mode\u001b[0m\u001b[1;33m==\u001b[0m\u001b[1;36m1\u001b[0m\u001b[1;33m]\u001b[0m\u001b[1;33m)\u001b[0m\u001b[1;33m,\u001b[0m\u001b[0mnp\u001b[0m\u001b[1;33m.\u001b[0m\u001b[0mhstack\u001b[0m\u001b[1;33m(\u001b[0m\u001b[0mkill_dbl\u001b[0m\u001b[1;33m)\u001b[0m\u001b[1;33m,\u001b[0m\u001b[0mlabel\u001b[0m\u001b[1;33m=\u001b[0m\u001b[1;34m'dbl'\u001b[0m\u001b[1;33m)\u001b[0m\u001b[1;33m\u001b[0m\u001b[1;33m\u001b[0m\u001b[0m\n\u001b[0;32m      5\u001b[0m \u001b[0mplt\u001b[0m\u001b[1;33m.\u001b[0m\u001b[0mscatter\u001b[0m\u001b[1;33m(\u001b[0m\u001b[0mnp\u001b[0m\u001b[1;33m.\u001b[0m\u001b[0msort\u001b[0m\u001b[1;33m(\u001b[0m\u001b[0mscan_var\u001b[0m\u001b[1;33m[\u001b[0m\u001b[0mdoublon_mode\u001b[0m\u001b[1;33m==\u001b[0m\u001b[1;36m2\u001b[0m\u001b[1;33m]\u001b[0m\u001b[1;33m)\u001b[0m\u001b[1;33m,\u001b[0m\u001b[0mnp\u001b[0m\u001b[1;33m.\u001b[0m\u001b[0mhstack\u001b[0m\u001b[1;33m(\u001b[0m\u001b[0mkill_pair\u001b[0m\u001b[1;33m)\u001b[0m\u001b[1;33m,\u001b[0m\u001b[0mlabel\u001b[0m \u001b[1;33m=\u001b[0m\u001b[1;34m'pair'\u001b[0m\u001b[1;33m)\u001b[0m\u001b[1;33m\u001b[0m\u001b[1;33m\u001b[0m\u001b[0m\n",
      "\u001b[1;31mTypeError\u001b[0m: only integer scalar arrays can be converted to a scalar index"
     ]
    },
    {
     "data": {
      "image/png": "[encoded data removed]",
      "text/plain": [
       "<Figure size 864x288 with 1 Axes>"
      ]
     },
     "metadata": {
      "needs_background": "light"
     },
     "output_type": "display_data"
    }
   ],
   "source": [
    "fig = plt.figure(figsize=(12,4))\n",
    "fig.add_subplot(1,2,1)\n",
    "plt.scatter(np.sort(scan_var[doublon_mode==0]),np.hstack(all_atoms),label='all')\n",
    "plt.scatter(np.sort(scan_var[doublon_mode==1]),np.hstack(kill_dbl),label='dbl')\n",
    "plt.scatter(np.sort(scan_var[doublon_mode==2]),np.hstack(kill_pair),label ='pair')\n",
    "plt.legend()\n",
    "plt.xlabel(\"dimple_Top (V)\")\n",
    "\n",
    "fig.add_subplot(1,2,2)\n",
    "plt.errorbar(np.unique(varlist2),spdf,spdferr,fmt=\"o\",label='SPDF')\n",
    "plt.errorbar(np.unique(varlist2),dblFrac,dblerr,fmt=\"o\",label='dbl frac')\n",
    "plt.xlabel(\"dimple_Top(V)\")\n",
    "plt.legend()\n",
    "\n",
    "plt.suptitle(\"side absorption imaging / check doublon fraction\")\n",
    "plt.savefig(\"oct_26_2020_check_dbl_frac.png\")"
   ]
  },
  {
   "cell_type": "markdown",
   "metadata": {},
   "source": [
    "### Dispersive image analysis"
   ]
  },
  {
   "cell_type": "code",
   "execution_count": 102,
   "metadata": {},
   "outputs": [],
   "source": [
    "dat = bec4lib.BEC4image(imgs,camInfo)\n",
    "dat.dispersiveImage(pwaLoc = [2,3,4],knifeEdge=35,doPCA=True);\n",
    "varlist = bec4lib.queryVariable(ids,'Generic_Hold_Time')"
   ]
  },
  {
   "cell_type": "code",
   "execution_count": 103,
   "metadata": {},
   "outputs": [],
   "source": [
    "ncount = np.zeros((dat.shotsN,3))\n",
    "#doublon_mode = []\n",
    "scan_var = []\n",
    "for i in range(0,dat.shotsN):\n",
    "    for j in range(0,3):\n",
    "        popt,cutout = bec4fit.fit_2DGaussian(dat.pciImg[i,j])\n",
    "        ncount[i,j] = 2*np.pi*np.prod(popt[2:5])\n",
    "    scan_var.append(varlist[i])\n",
    "scan_var = np.array(scan_var)"
   ]
  },
  {
   "cell_type": "code",
   "execution_count": 104,
   "metadata": {},
   "outputs": [],
   "source": [
    "spdf_dat = bec4lib.spdf_jackknife(scan_var,ncount,flag=0)"
   ]
  },
  {
   "cell_type": "code",
   "execution_count": 105,
   "metadata": {},
   "outputs": [
    {
     "data": {
      "image/png": "[encoded data removed]",
      "text/plain": [
       "<Figure size 432x288 with 1 Axes>"
      ]
     },
     "metadata": {
      "needs_background": "light"
     },
     "output_type": "display_data"
    }
   ],
   "source": [
    "plt.errorbar(np.unique(scan_var),spdf_dat[:,1,0],yerr = spdf_dat[:,1,1],fmt='o',label='spdf')\n",
    "plt.errorbar(np.unique(scan_var),spdf_dat[:,0,0],yerr = spdf_dat[:,0,1],fmt='o',label=\"dbl\")\n",
    "plt.xlabel(\"hold (ms)\")\n",
    "plt.legend()\n",
    "#plt.title(\"35/9/35 |1,-1> + |1,1> pair\\n PCA applied\")\n",
    "plt.savefig(\"preliminary_positive-u.png\")"
   ]
  },
  {
   "cell_type": "code",
   "execution_count": 106,
   "metadata": {},
   "outputs": [],
   "source": [
    "dbls = (dat.pwa[:,0,:,:]-dat.pwa[:,2,:,:])/((dat.pwoa[:,0,:,:]+dat.pwoa[:,2,:,:])/2 - dat.dark[:,0,:,:])\n",
    "alls = (dat.pwa[:,0]-dat.pwoa[:,0])/(dat.pwoa[:,0]-dat.dark[:,0])\n",
    "killpairs = (dat.pwa[:,1]-dat.pwoa[:,1])/(dat.pwoa[:,1]-dat.dark[:,1])"
   ]
  },
  {
   "cell_type": "code",
   "execution_count": 107,
   "metadata": {},
   "outputs": [],
   "source": [
    "ncount_dbl = np.zeros((dat.shotsN,1))\n",
    "ncount_all = np.zeros((dat.shotsN,1))\n",
    "ncount_killpairs = np.zeros((dat.shotsN,1))\n",
    "for i in range(dat.shotsN):\n",
    "    param2, _ = bec4fit.fit_2DGaussian(dbls[i])\n",
    "    ncount_dbl[i] = 2*np.pi*np.prod(param2[2:5])\n",
    "    param1, _ = bec4fit.fit_2DGaussian(alls[i])\n",
    "    param3, _ = bec4fit.fit_2DGaussian(killpairs[i])\n",
    "    ncount_killpairs[i] = 2*np.pi*np.prod(param3[2:5])\n",
    "    ncount_all[i] = 2*np.pi*np.prod(param1[2:5])\n",
    "\n",
    "ncount_array = np.hstack([ncount_all,ncount_killpairs,ncount_dbl])\n"
   ]
  },
  {
   "cell_type": "code",
   "execution_count": 108,
   "metadata": {},
   "outputs": [
    {
     "data": {
      "image/png": "[encoded data removed]",
      "text/plain": [
       "<Figure size 432x288 with 1 Axes>"
      ]
     },
     "metadata": {
      "needs_background": "light"
     },
     "output_type": "display_data"
    }
   ],
   "source": [
    "spdf_dat = bec4lib.spdf_jackknife(scan_var,ncount_array,flag=1)\n",
    "plt.errorbar(np.unique(scan_var),spdf_dat[:,1,0],yerr = spdf_dat[:,1,1],fmt='o',label='spdf')\n",
    "plt.errorbar(np.unique(scan_var),spdf_dat[:,0,0],yerr = spdf_dat[:,0,1],fmt='o',label=\"dbl\")\n",
    "plt.xlabel(\"hold (ms)\")\n",
    "plt.legend()\n",
    "plt.title(\"35/15/35 |1,-1> + |1,0> pair\\n PCA applied, calculate true doublons from PWA1-PWA3\")\n",
    "plt.savefig(\"preliminary_positive-u_v2.png\")"
   ]
  },
  {
   "cell_type": "code",
   "execution_count": 122,
   "metadata": {},
   "outputs": [],
   "source": [
    "dbls = (dat.pwa[:,0,:,:]-dat.pwa[:,2,:,:])/((dat.pwoa[:,0,:,:]+dat.pwoa[:,2,:,:])/2 - dat.dark[:,0,:,:])\n",
    "alls = (dat.pwa[:,0]-dat.pwoa[:,0])/(dat.pwoa[:,0]-dat.dark[:,0])\n",
    "pairs = (dat.pwa[:,0,:,:]-dat.pwa[:,1,:,:])/((dat.pwoa[:,0,:,:]+dat.pwoa[:,1,:,:])/2 - dat.dark[:,0,:,:])\n",
    "\n",
    "xmin, xmax = 20, 50\n",
    "ymin, ymax = 20, 50\n",
    "\n",
    "alls = alls[:, ymin:ymax, xmin:xmax]\n",
    "dbls = dbls[:, ymin:ymax, xmin:xmax]\n",
    "pairs = pairs[:, ymin:ymax, xmin:xmax]"
   ]
  },
  {
   "cell_type": "code",
   "execution_count": 123,
   "metadata": {},
   "outputs": [
    {
     "data": {
      "text/plain": [
       "<matplotlib.image.AxesImage at 0x264262cc0f0>"
      ]
     },
     "execution_count": 123,
     "metadata": {},
     "output_type": "execute_result"
    },
    {
     "data": {
      "image/png": "[encoded data removed]",
      "text/plain": [
       "<Figure size 432x288 with 1 Axes>"
      ]
     },
     "metadata": {
      "needs_background": "light"
     },
     "output_type": "display_data"
    }
   ],
   "source": [
    "plt.imshow(alls[0])"
   ]
  },
  {
   "cell_type": "code",
   "execution_count": 125,
   "metadata": {},
   "outputs": [],
   "source": [
    "ncount_dbl = np.zeros((dat.shotsN,1))\n",
    "ncount_all = np.zeros((dat.shotsN,1))\n",
    "ncount_pairs = np.zeros((dat.shotsN,1))\n",
    "for i in range(dat.shotsN):\n",
    "    param2, _ = bec4fit.fit_2DGaussian(dbls[i])\n",
    "    ncount_dbl[i] = 2*np.pi*np.prod(param2[2:5])\n",
    "    param1, _ = bec4fit.fit_2DGaussian(alls[i])\n",
    "    param3, _ = bec4fit.fit_2DGaussian(pairs[i])\n",
    "    ncount_all[i] = 2*np.pi*np.prod(param1[2:5])\n",
    "    ncount_pairs[i] = 2*np.pi*np.prod(param3[2:5])\n",
    "\n",
    "ncount_array = np.hstack([ncount_all,ncount_pairs,ncount_dbl])"
   ]
  },
  {
   "cell_type": "code",
   "execution_count": 126,
   "metadata": {},
   "outputs": [
    {
     "data": {
      "image/png": "[encoded data removed]",
      "text/plain": [
       "<Figure size 432x288 with 1 Axes>"
      ]
     },
     "metadata": {
      "needs_background": "light"
     },
     "output_type": "display_data"
    }
   ],
   "source": [
    "spdf_dat = bec4lib.spdf_jackknife(scan_var,ncount_array,flag=2)\n",
    "plt.errorbar(np.unique(scan_var),spdf_dat[:,1,0],yerr = spdf_dat[:,1,1],fmt='o',label='spdf')\n",
    "plt.errorbar(np.unique(scan_var),spdf_dat[:,0,0],yerr = spdf_dat[:,0,1],fmt='o',label=\"dbl\")\n",
    "plt.xlabel(\"hold (ms)\")\n",
    "plt.legend()\n",
    "plt.title(\"35/15/35 |1,-1> + |1,0> pair\\n PCA applied, calculate true doublons from PWA1-PWA3\\n calculate true pairs from PWA1-PWA2\")\n",
    "plt.savefig(\"preliminary_positive-u_v3.png\")"
   ]
  },
  {
   "cell_type": "code",
   "execution_count": 22,
   "metadata": {},
   "outputs": [
    {
     "data": {
      "text/plain": [
       "array([[4.26949313],\n",
       "       [4.70634034],\n",
       "       [4.73198819],\n",
       "       [4.70426349],\n",
       "       [5.77504421],\n",
       "       [0.77106598],\n",
       "       [0.77020579],\n",
       "       [4.24498655],\n",
       "       [0.67339656]])"
      ]
     },
     "execution_count": 22,
     "metadata": {},
     "output_type": "execute_result"
    }
   ],
   "source": [
    "ncount_pairs[scan_var==1]"
   ]
  },
  {
   "cell_type": "code",
   "execution_count": 23,
   "metadata": {},
   "outputs": [
    {
     "data": {
      "text/plain": [
       "array([200., 200., 200., 200., 200., 200., 200., 200.,  10.,  10.,  10.,\n",
       "        10.,  10.,  10.,  10.,  10.,  10.,  60.,  60.,  60.,  60.,  60.,\n",
       "        60.,  60.,  60.,  60., 250., 250., 250., 250., 250., 250., 250.,\n",
       "       250., 250., 100., 100., 100., 100., 100., 100., 100., 100., 100.,\n",
       "        40.,  40.,  40.,  40.,  40.,  40.,  40.,  40.,  40.,   5.,   5.,\n",
       "         5.,   5.,   5.,   5.,   5.,   5.,   1.,   1.,   1.,   1.,   1.,\n",
       "         1.,   1.,   1.,   1.,  25.,  25.,  25.,  25.,  25.,  25.,  25.,\n",
       "        25.,  25.])"
      ]
     },
     "execution_count": 23,
     "metadata": {},
     "output_type": "execute_result"
    }
   ],
   "source": [
    "scan_var"
   ]
  },
  {
   "cell_type": "code",
   "execution_count": 127,
   "metadata": {},
   "outputs": [],
   "source": [
    "lattice12dat = spdf_dat"
   ]
  },
  {
   "cell_type": "code",
   "execution_count": 141,
   "metadata": {},
   "outputs": [
    {
     "data": {
      "image/png": "[encoded data removed]",
      "text/plain": [
       "<Figure size 432x288 with 1 Axes>"
      ]
     },
     "metadata": {
      "needs_background": "light"
     },
     "output_type": "display_data"
    }
   ],
   "source": [
    "plt.errorbar(np.unique(scan_var), lattice15dat[:, 1, 0], lattice15dat[:, 1, 1], fmt = 'o', label = 'Hold in 15Er')\n",
    "plt.errorbar(np.unique(scan_var), lattice12dat[:, 1, 0], lattice12dat[:, 1, 1], fmt = 'o', label = 'Hold in 12Er')\n",
    "plt.xlabel(\"Hold time (ms)\", fontsize = 14)\n",
    "plt.ylabel(\"SPDF\", fontsize = 14)\n",
    "plt.legend(fontsize = 12)\n",
    "plt.title(\"|1,-1> + |1,0> pair held in 35/x/35 lattice\", fontsize = 14)\n",
    "plt.tick_params(labelsize = 12)"
   ]
  },
  {
   "cell_type": "code",
   "execution_count": null,
   "metadata": {},
   "outputs": [],
   "source": []
  }
 ],
 "metadata": {
  "kernelspec": {
   "display_name": "Python 3",
   "language": "python",
   "name": "python3"
  },
  "language_info": {
   "codemirror_mode": {
    "name": "ipython",
    "version": 3
   },
   "file_extension": ".py",
   "mimetype": "text/x-python",
   "name": "python",
   "nbconvert_exporter": "python",
   "pygments_lexer": "ipython3",
   "version": "3.7.3"
  }
 },
 "nbformat": 4,
 "nbformat_minor": 4
}
